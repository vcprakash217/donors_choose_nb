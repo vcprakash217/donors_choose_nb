{
 "cells": [
  {
   "cell_type": "markdown",
   "metadata": {
    "colab_type": "text",
    "id": "Dnubs-Nnb3cw"
   },
   "source": [
    "# Assignment 6: Multinomial NB"
   ]
  },
  {
   "cell_type": "markdown",
   "metadata": {
    "colab_type": "text",
    "id": "FYqCIxzFb3c5"
   },
   "source": [
    "## 1.1 Loading Data"
   ]
  },
  {
   "cell_type": "code",
   "execution_count": 1,
   "metadata": {
    "colab": {},
    "colab_type": "code",
    "id": "dA1jknyqb3c_",
    "scrolled": true
   },
   "outputs": [
    {
     "data": {
      "text/html": [
       "<div>\n",
       "<style scoped>\n",
       "    .dataframe tbody tr th:only-of-type {\n",
       "        vertical-align: middle;\n",
       "    }\n",
       "\n",
       "    .dataframe tbody tr th {\n",
       "        vertical-align: top;\n",
       "    }\n",
       "\n",
       "    .dataframe thead th {\n",
       "        text-align: right;\n",
       "    }\n",
       "</style>\n",
       "<table border=\"1\" class=\"dataframe\">\n",
       "  <thead>\n",
       "    <tr style=\"text-align: right;\">\n",
       "      <th></th>\n",
       "      <th>school_state</th>\n",
       "      <th>teacher_prefix</th>\n",
       "      <th>project_grade_category</th>\n",
       "      <th>teacher_number_of_previously_posted_projects</th>\n",
       "      <th>project_is_approved</th>\n",
       "      <th>clean_categories</th>\n",
       "      <th>clean_subcategories</th>\n",
       "      <th>essay</th>\n",
       "      <th>price</th>\n",
       "    </tr>\n",
       "  </thead>\n",
       "  <tbody>\n",
       "    <tr>\n",
       "      <th>0</th>\n",
       "      <td>ca</td>\n",
       "      <td>mrs</td>\n",
       "      <td>grades_prek_2</td>\n",
       "      <td>53</td>\n",
       "      <td>1</td>\n",
       "      <td>math_science</td>\n",
       "      <td>appliedsciences health_lifescience</td>\n",
       "      <td>i fortunate enough use fairy tale stem kits cl...</td>\n",
       "      <td>725.05</td>\n",
       "    </tr>\n",
       "  </tbody>\n",
       "</table>\n",
       "</div>"
      ],
      "text/plain": [
       "  school_state teacher_prefix project_grade_category  \\\n",
       "0           ca            mrs          grades_prek_2   \n",
       "\n",
       "   teacher_number_of_previously_posted_projects  project_is_approved  \\\n",
       "0                                            53                    1   \n",
       "\n",
       "  clean_categories                 clean_subcategories  \\\n",
       "0     math_science  appliedsciences health_lifescience   \n",
       "\n",
       "                                               essay   price  \n",
       "0  i fortunate enough use fairy tale stem kits cl...  725.05  "
      ]
     },
     "execution_count": 1,
     "metadata": {},
     "output_type": "execute_result"
    }
   ],
   "source": [
    "import pandas as pd\n",
    "preprocessed_df = pd.read_csv('preprocessed_data.csv')\n",
    "train_df = pd.read_csv('train_data.csv')\n",
    "preprocessed_df.head(1)"
   ]
  },
  {
   "cell_type": "code",
   "execution_count": 2,
   "metadata": {},
   "outputs": [],
   "source": [
    "# Text preprocessing\n",
    "# https://stackoverflow.com/a/47091490/4084039\n",
    "import re\n",
    "\n",
    "def decontracted(phrase):\n",
    "    # specific\n",
    "    phrase = re.sub(r\"won't\", \"will not\", phrase)\n",
    "    phrase = re.sub(r\"can\\'t\", \"can not\", phrase)\n",
    "    # general\n",
    "    phrase = re.sub(r\"n\\'t\", \" not\", phrase)\n",
    "    phrase = re.sub(r\"\\'re\", \" are\", phrase)\n",
    "    phrase = re.sub(r\"\\'s\", \" is\", phrase)\n",
    "    phrase = re.sub(r\"\\'d\", \" would\", phrase)\n",
    "    phrase = re.sub(r\"\\'ll\", \" will\", phrase)\n",
    "    phrase = re.sub(r\"\\'t\", \" not\", phrase)\n",
    "    phrase = re.sub(r\"\\'ve\", \" have\", phrase)\n",
    "    phrase = re.sub(r\"\\'m\", \" am\", phrase)\n",
    "    return phrase\n",
    "\n",
    "# https://gist.github.com/sebleier/554280\n",
    "# we are removing the words from the stop words list: 'no', 'nor', 'not'\n",
    "stopwords= ['i', 'me', 'my', 'myself', 'we', 'our', 'ours', 'ourselves', 'you', \"you're\", \"you've\",\\\n",
    "            \"you'll\", \"you'd\", 'your', 'yours', 'yourself', 'yourselves', 'he', 'him', 'his', 'himself', \\\n",
    "            'she', \"she's\", 'her', 'hers', 'herself', 'it', \"it's\", 'its', 'itself', 'they', 'them', 'their',\\\n",
    "            'theirs', 'themselves', 'what', 'which', 'who', 'whom', 'this', 'that', \"that'll\", 'these', 'those', \\\n",
    "            'am', 'is', 'are', 'was', 'were', 'be', 'been', 'being', 'have', 'has', 'had', 'having', 'do', 'does', \\\n",
    "            'did', 'doing', 'a', 'an', 'the', 'and', 'but', 'if', 'or', 'because', 'as', 'until', 'while', 'of', \\\n",
    "            'at', 'by', 'for', 'with', 'about', 'against', 'between', 'into', 'through', 'during', 'before', 'after',\\\n",
    "            'above', 'below', 'to', 'from', 'up', 'down', 'in', 'out', 'on', 'off', 'over', 'under', 'again', 'further',\\\n",
    "            'then', 'once', 'here', 'there', 'when', 'where', 'why', 'how', 'all', 'any', 'both', 'each', 'few', 'more',\\\n",
    "            'most', 'other', 'some', 'such', 'only', 'own', 'same', 'so', 'than', 'too', 'very', \\\n",
    "            's', 't', 'can', 'will', 'just', 'don', \"don't\", 'should', \"should've\", 'now', 'd', 'll', 'm', 'o', 're', \\\n",
    "            've', 'y', 'ain', 'aren', \"aren't\", 'couldn', \"couldn't\", 'didn', \"didn't\", 'doesn', \"doesn't\", 'hadn',\\\n",
    "            \"hadn't\", 'hasn', \"hasn't\", 'haven', \"haven't\", 'isn', \"isn't\", 'ma', 'mightn', \"mightn't\", 'mustn',\\\n",
    "            \"mustn't\", 'needn', \"needn't\", 'shan', \"shan't\", 'shouldn', \"shouldn't\", 'wasn', \"wasn't\", 'weren', \"weren't\", \\\n",
    "            'won', \"won't\", 'wouldn', \"wouldn't\"]\n",
    "\n",
    "# Preprocesses text for each sentence\n",
    "# param text_data: string (ex: Just For the Love of Reading--\\r\\nPure Pleasure)\n",
    "# return string (ex: love reading pure pleasure)\n",
    "def preprocess_text(text_data):\n",
    "    sent = decontracted(text_data)\n",
    "    sent = sent.replace('\\\\r', ' ')\n",
    "    sent = sent.replace('\\\\n', ' ')\n",
    "    sent = sent.replace('\\\\\"', ' ')\n",
    "    sent = re.sub('[^A-Za-z0-9]+', ' ', sent)\n",
    "    # https://gist.github.com/sebleier/554280\n",
    "    sent = ' '.join(e for e in sent.split() if e.lower() not in stopwords)\n",
    "    \n",
    "    return sent.lower().strip()"
   ]
  },
  {
   "cell_type": "code",
   "execution_count": 3,
   "metadata": {},
   "outputs": [],
   "source": [
    "# Extract id, title from train_data.csv into a new dataframe\n",
    "title_df = train_df.filter(['project_title'], axis=1)\n",
    "\n",
    "# Preprocess titles\n",
    "title_df['project_title'] = title_df['project_title'].map(preprocess_text)\n",
    "\n",
    "# Add titles to preprocessed dataframe\n",
    "preprocessed_df = pd.concat([preprocessed_df, title_df], axis=1)"
   ]
  },
  {
   "cell_type": "markdown",
   "metadata": {
    "colab_type": "text",
    "id": "WtVV13Fyb3dH"
   },
   "source": [
    "<h2>1.2 Splitting data into Train and cross validation(or test): Stratified Sampling</h2>"
   ]
  },
  {
   "cell_type": "code",
   "execution_count": 4,
   "metadata": {
    "colab": {},
    "colab_type": "code",
    "id": "i-PyprDNb3dI"
   },
   "outputs": [
    {
     "data": {
      "text/html": [
       "<div>\n",
       "<style scoped>\n",
       "    .dataframe tbody tr th:only-of-type {\n",
       "        vertical-align: middle;\n",
       "    }\n",
       "\n",
       "    .dataframe tbody tr th {\n",
       "        vertical-align: top;\n",
       "    }\n",
       "\n",
       "    .dataframe thead th {\n",
       "        text-align: right;\n",
       "    }\n",
       "</style>\n",
       "<table border=\"1\" class=\"dataframe\">\n",
       "  <thead>\n",
       "    <tr style=\"text-align: right;\">\n",
       "      <th></th>\n",
       "      <th>school_state</th>\n",
       "      <th>teacher_prefix</th>\n",
       "      <th>project_grade_category</th>\n",
       "      <th>teacher_number_of_previously_posted_projects</th>\n",
       "      <th>clean_categories</th>\n",
       "      <th>clean_subcategories</th>\n",
       "      <th>essay</th>\n",
       "      <th>price</th>\n",
       "      <th>project_title</th>\n",
       "    </tr>\n",
       "  </thead>\n",
       "  <tbody>\n",
       "    <tr>\n",
       "      <th>35874</th>\n",
       "      <td>oh</td>\n",
       "      <td>mrs</td>\n",
       "      <td>grades_3_5</td>\n",
       "      <td>3</td>\n",
       "      <td>literacy_language math_science</td>\n",
       "      <td>literacy mathematics</td>\n",
       "      <td>my classroom high energy we lot kinesthetic le...</td>\n",
       "      <td>149.99</td>\n",
       "      <td>wiggle work</td>\n",
       "    </tr>\n",
       "  </tbody>\n",
       "</table>\n",
       "</div>"
      ],
      "text/plain": [
       "      school_state teacher_prefix project_grade_category  \\\n",
       "35874           oh            mrs             grades_3_5   \n",
       "\n",
       "       teacher_number_of_previously_posted_projects  \\\n",
       "35874                                             3   \n",
       "\n",
       "                     clean_categories   clean_subcategories  \\\n",
       "35874  literacy_language math_science  literacy mathematics   \n",
       "\n",
       "                                                   essay   price project_title  \n",
       "35874  my classroom high energy we lot kinesthetic le...  149.99   wiggle work  "
      ]
     },
     "execution_count": 4,
     "metadata": {},
     "output_type": "execute_result"
    }
   ],
   "source": [
    "from sklearn.model_selection import train_test_split\n",
    "\n",
    "y = preprocessed_df['project_is_approved'].values\n",
    "X = preprocessed_df.drop(['project_is_approved'], axis=1)\n",
    "X_train, X_test, y_train, y_test = train_test_split(X, y, test_size=0.33, stratify=y)\n",
    "X_train, X_cv, y_train, y_cv = train_test_split(X_train, y_train, test_size=0.33, stratify=y_train)\n",
    "X_train.head(1)"
   ]
  },
  {
   "cell_type": "markdown",
   "metadata": {
    "colab_type": "text",
    "id": "EnZwVNULb3dO"
   },
   "source": [
    "<h2>1.3 Make Data Model Ready: encoding essay, and project_title</h2>"
   ]
  },
  {
   "cell_type": "code",
   "execution_count": 5,
   "metadata": {
    "colab": {},
    "colab_type": "code",
    "id": "-SczZKiab3dR"
   },
   "outputs": [],
   "source": [
    "from sklearn.feature_extraction.text import CountVectorizer\n",
    "from sklearn.feature_extraction.text import TfidfVectorizer\n",
    "\n",
    "# Initialize a feature name list and append the feature_names to it\n",
    "feature_name_list_bow = []\n",
    "feature_name_list_tfidf = []"
   ]
  },
  {
   "cell_type": "code",
   "execution_count": 6,
   "metadata": {},
   "outputs": [],
   "source": [
    "def _encoder_helper(vectorizer, train_df_column, cv_df_column, test_df_column):\n",
    "    vectorizer.fit(train_df_column.values)\n",
    "    # we use the fitted CountVectorizer to convert the text to vector\n",
    "    train_df_transform = vectorizer.transform(train_df_column.values)\n",
    "    cv_df_transform = vectorizer.transform(cv_df_column.values)\n",
    "    test_df_transform = vectorizer.transform(test_df_column.values)\n",
    "    \n",
    "    return train_df_transform, cv_df_transform, test_df_transform"
   ]
  },
  {
   "cell_type": "code",
   "execution_count": 7,
   "metadata": {},
   "outputs": [],
   "source": [
    "# Initialzie BoW and TF-IDF vectorizers for text features\n",
    "vectorizer_bow = CountVectorizer(ngram_range=(1,4), max_features=10000)\n",
    "vectorizer_tfidf = TfidfVectorizer(ngram_range=(1,4), max_features=10000)"
   ]
  },
  {
   "cell_type": "code",
   "execution_count": 8,
   "metadata": {},
   "outputs": [
    {
     "name": "stdout",
     "output_type": "stream",
     "text": [
      "After vectorizations\n",
      "(49041, 10000) (49041,)\n",
      "(24155, 10000) (24155,)\n",
      "(36052, 10000) (36052,)\n",
      "(49041, 10000) (49041,)\n",
      "(24155, 10000) (24155,)\n",
      "(36052, 10000) (36052,)\n",
      "10000\n",
      "10000\n",
      "['000 students', '10', '10 years', '100']\n",
      "['000 students', '10', '10 years', '100']\n"
     ]
    }
   ],
   "source": [
    "# Project Essay\n",
    "\n",
    "# bow\n",
    "X_train_essay_bow, X_cv_essay_bow, X_test_essay_bow = _encoder_helper(vectorizer_bow, X_train['essay'], X_cv['essay'], X_test['essay'])\n",
    "feature_name_list_bow.extend(vectorizer_bow.get_feature_names())\n",
    "# tf-idf\n",
    "X_train_essay_tfidf, X_cv_essay_tfidf, X_test_essay_tfidf = _encoder_helper(vectorizer_tfidf, X_train['essay'], X_cv['essay'], X_test['essay'])\n",
    "feature_name_list_tfidf.extend(vectorizer_tfidf.get_feature_names())\n",
    "\n",
    "print(\"After vectorizations\")\n",
    "print(X_train_essay_bow.shape, y_train.shape)\n",
    "print(X_cv_essay_bow.shape, y_cv.shape)\n",
    "print(X_test_essay_bow.shape, y_test.shape)\n",
    "\n",
    "print(X_train_essay_tfidf.shape, y_train.shape)\n",
    "print(X_cv_essay_tfidf.shape, y_cv.shape)\n",
    "print(X_test_essay_tfidf.shape, y_test.shape)\n",
    "\n",
    "print(len(feature_name_list_bow))\n",
    "print(len(feature_name_list_tfidf))\n",
    "\n",
    "print(vectorizer_bow.get_feature_names()[1:5])\n",
    "print(vectorizer_tfidf.get_feature_names()[1:5])"
   ]
  },
  {
   "cell_type": "code",
   "execution_count": 9,
   "metadata": {},
   "outputs": [
    {
     "name": "stdout",
     "output_type": "stream",
     "text": [
      "After vectorizations\n",
      "(49041, 10000) (49041,)\n",
      "(24155, 10000) (24155,)\n",
      "(36052, 10000) (36052,)\n",
      "(49041, 10000) (49041,)\n",
      "(24155, 10000) (24155,)\n",
      "(36052, 10000) (36052,)\n",
      "20000\n",
      "20000\n",
      "['03', '03 16', '04', '04 16']\n",
      "['03', '03 16', '04', '04 16']\n"
     ]
    }
   ],
   "source": [
    "# Project Title\n",
    "\n",
    "# bow\n",
    "X_train_title_bow, X_cv_title_bow, X_test_title_bow = _encoder_helper(vectorizer_bow, X_train['project_title'], X_cv['project_title'], X_test['project_title'])\n",
    "feature_name_list_bow.extend(vectorizer_bow.get_feature_names())\n",
    "# tf-idf\n",
    "X_train_title_tfidf, X_cv_title_tfidf, X_test_title_tfidf = _encoder_helper(vectorizer_tfidf, X_train['project_title'], X_cv['project_title'], X_test['project_title'])\n",
    "feature_name_list_tfidf.extend(vectorizer_tfidf.get_feature_names())\n",
    "\n",
    "print(\"After vectorizations\")\n",
    "print(X_train_title_bow.shape, y_train.shape)\n",
    "print(X_cv_title_bow.shape, y_cv.shape)\n",
    "print(X_test_title_bow.shape, y_test.shape)\n",
    "\n",
    "print(X_train_title_tfidf.shape, y_train.shape)\n",
    "print(X_cv_title_tfidf.shape, y_cv.shape)\n",
    "print(X_test_title_tfidf.shape, y_test.shape)\n",
    "\n",
    "print(len(feature_name_list_bow))\n",
    "print(len(feature_name_list_tfidf))\n",
    "\n",
    "print(vectorizer_bow.get_feature_names()[1:5])\n",
    "print(vectorizer_tfidf.get_feature_names()[1:5])"
   ]
  },
  {
   "cell_type": "markdown",
   "metadata": {
    "colab_type": "text",
    "id": "bGy86kgHb3dX"
   },
   "source": [
    "<h2>1.4 Make Data Model Ready: encoding numerical, categorical features</h2>"
   ]
  },
  {
   "cell_type": "code",
   "execution_count": 10,
   "metadata": {},
   "outputs": [],
   "source": [
    "# Initialzie BoW and TF-IDF vectorizers for categorical features\n",
    "vectorizer_bow = CountVectorizer()\n",
    "vectorizer_tfidf = TfidfVectorizer()"
   ]
  },
  {
   "cell_type": "code",
   "execution_count": 11,
   "metadata": {
    "colab": {},
    "colab_type": "code",
    "id": "EfXkofX1b3da"
   },
   "outputs": [
    {
     "name": "stdout",
     "output_type": "stream",
     "text": [
      "After vectorizations\n",
      "(49041, 51) (49041,)\n",
      "(24155, 51) (24155,)\n",
      "(36052, 51) (36052,)\n",
      "(49041, 51) (49041,)\n",
      "(24155, 51) (24155,)\n",
      "(36052, 51) (36052,)\n",
      "20051\n",
      "20051\n",
      "['ak', 'al', 'ar', 'az', 'ca', 'co', 'ct', 'dc', 'de', 'fl', 'ga', 'hi', 'ia', 'id', 'il', 'in', 'ks', 'ky', 'la', 'ma', 'md', 'me', 'mi', 'mn', 'mo', 'ms', 'mt', 'nc', 'nd', 'ne', 'nh', 'nj', 'nm', 'nv', 'ny', 'oh', 'ok', 'or', 'pa', 'ri', 'sc', 'sd', 'tn', 'tx', 'ut', 'va', 'vt', 'wa', 'wi', 'wv', 'wy']\n",
      "['ak', 'al', 'ar', 'az', 'ca', 'co', 'ct', 'dc', 'de', 'fl', 'ga', 'hi', 'ia', 'id', 'il', 'in', 'ks', 'ky', 'la', 'ma', 'md', 'me', 'mi', 'mn', 'mo', 'ms', 'mt', 'nc', 'nd', 'ne', 'nh', 'nj', 'nm', 'nv', 'ny', 'oh', 'ok', 'or', 'pa', 'ri', 'sc', 'sd', 'tn', 'tx', 'ut', 'va', 'vt', 'wa', 'wi', 'wv', 'wy']\n"
     ]
    }
   ],
   "source": [
    "# School State\n",
    "\n",
    "# BoW\n",
    "X_train_state_ohe_bow, X_cv_state_ohe_bow, X_test_state_ohe_bow = _encoder_helper(vectorizer_bow, X_train['school_state'], X_cv['school_state'], X_test['school_state'])\n",
    "feature_name_list_bow.extend(vectorizer_bow.get_feature_names())\n",
    "# TF-IDF\n",
    "X_train_state_ohe_tfidf, X_cv_state_ohe_tfidf, X_test_state_ohe_tfidf = _encoder_helper(vectorizer_tfidf, X_train['school_state'], X_cv['school_state'], X_test['school_state'])\n",
    "feature_name_list_tfidf.extend(vectorizer_tfidf.get_feature_names())\n",
    "\n",
    "print(\"After vectorizations\")\n",
    "print(X_train_state_ohe_bow.shape, y_train.shape)\n",
    "print(X_cv_state_ohe_bow.shape, y_cv.shape)\n",
    "print(X_test_state_ohe_bow.shape, y_test.shape)\n",
    "\n",
    "print(X_train_state_ohe_tfidf.shape, y_train.shape)\n",
    "print(X_cv_state_ohe_tfidf.shape, y_cv.shape)\n",
    "print(X_test_state_ohe_tfidf.shape, y_test.shape)\n",
    "\n",
    "print(len(feature_name_list_bow))\n",
    "print(len(feature_name_list_tfidf))\n",
    "\n",
    "print(vectorizer_bow.get_feature_names())\n",
    "print(vectorizer_tfidf.get_feature_names())"
   ]
  },
  {
   "cell_type": "code",
   "execution_count": 12,
   "metadata": {},
   "outputs": [
    {
     "name": "stdout",
     "output_type": "stream",
     "text": [
      "After vectorizations\n",
      "(49041, 5) (49041,)\n",
      "(24155, 5) (24155,)\n",
      "(36052, 5) (36052,)\n",
      "(49041, 5) (49041,)\n",
      "(24155, 5) (24155,)\n",
      "(36052, 5) (36052,)\n",
      "20056\n",
      "20056\n",
      "['dr', 'mr', 'mrs', 'ms', 'teacher']\n",
      "['dr', 'mr', 'mrs', 'ms', 'teacher']\n"
     ]
    }
   ],
   "source": [
    "# Teacher Prefix\n",
    "\n",
    "# BoW\n",
    "X_train_teacher_ohe_bow, X_cv_teacher_ohe_bow, X_test_teacher_ohe_bow = _encoder_helper(vectorizer_bow, X_train['teacher_prefix'], X_cv['teacher_prefix'], X_test['teacher_prefix'])\n",
    "feature_name_list_bow.extend(vectorizer_bow.get_feature_names())\n",
    "# TF-IDF\n",
    "X_train_teacher_ohe_tfidf, X_cv_teacher_ohe_tfidf, X_test_teacher_ohe_tfidf = _encoder_helper(vectorizer_tfidf, X_train['teacher_prefix'], X_cv['teacher_prefix'], X_test['teacher_prefix'])\n",
    "feature_name_list_tfidf.extend(vectorizer_tfidf.get_feature_names())\n",
    "\n",
    "print(\"After vectorizations\")\n",
    "print(X_train_teacher_ohe_bow.shape, y_train.shape)\n",
    "print(X_cv_teacher_ohe_bow.shape, y_cv.shape)\n",
    "print(X_test_teacher_ohe_bow.shape, y_test.shape)\n",
    "\n",
    "print(X_train_teacher_ohe_tfidf.shape, y_train.shape)\n",
    "print(X_cv_teacher_ohe_tfidf.shape, y_cv.shape)\n",
    "print(X_test_teacher_ohe_tfidf.shape, y_test.shape)\n",
    "\n",
    "print(len(feature_name_list_bow))\n",
    "print(len(feature_name_list_tfidf))\n",
    "\n",
    "print(vectorizer_bow.get_feature_names())\n",
    "print(vectorizer_tfidf.get_feature_names())"
   ]
  },
  {
   "cell_type": "code",
   "execution_count": 13,
   "metadata": {},
   "outputs": [
    {
     "name": "stdout",
     "output_type": "stream",
     "text": [
      "After vectorizations\n",
      "(49041, 4) (49041,)\n",
      "(24155, 4) (24155,)\n",
      "(36052, 4) (36052,)\n",
      "(49041, 4) (49041,)\n",
      "(24155, 4) (24155,)\n",
      "(36052, 4) (36052,)\n",
      "20060\n",
      "20060\n",
      "['grades_3_5', 'grades_6_8', 'grades_9_12', 'grades_prek_2']\n",
      "['grades_3_5', 'grades_6_8', 'grades_9_12', 'grades_prek_2']\n"
     ]
    }
   ],
   "source": [
    "# Project Grade Category\n",
    "\n",
    "# BoW\n",
    "X_train_grade_ohe_bow, X_cv_grade_ohe_bow, X_test_grade_ohe_bow = _encoder_helper(vectorizer_bow, X_train['project_grade_category'], X_cv['project_grade_category'], X_test['project_grade_category'])\n",
    "feature_name_list_bow.extend(vectorizer_bow.get_feature_names())\n",
    "# TF-IDF\n",
    "X_train_grade_ohe_tfidf, X_cv_grade_ohe_tfidf, X_test_grade_ohe_tfidf = _encoder_helper(vectorizer_tfidf, X_train['project_grade_category'], X_cv['project_grade_category'], X_test['project_grade_category'])\n",
    "feature_name_list_tfidf.extend(vectorizer_tfidf.get_feature_names())\n",
    "\n",
    "print(\"After vectorizations\")\n",
    "print(X_train_grade_ohe_bow.shape, y_train.shape)\n",
    "print(X_cv_grade_ohe_bow.shape, y_cv.shape)\n",
    "print(X_test_grade_ohe_bow.shape, y_test.shape)\n",
    "\n",
    "print(X_train_grade_ohe_tfidf.shape, y_train.shape)\n",
    "print(X_cv_grade_ohe_tfidf.shape, y_cv.shape)\n",
    "print(X_test_grade_ohe_tfidf.shape, y_test.shape)\n",
    "\n",
    "print(len(feature_name_list_bow))\n",
    "print(len(feature_name_list_tfidf))\n",
    "\n",
    "print(vectorizer_bow.get_feature_names())\n",
    "print(vectorizer_tfidf.get_feature_names())"
   ]
  },
  {
   "cell_type": "code",
   "execution_count": 14,
   "metadata": {},
   "outputs": [
    {
     "name": "stdout",
     "output_type": "stream",
     "text": [
      "After vectorizations\n",
      "(49041, 30) (49041,)\n",
      "(24155, 30) (24155,)\n",
      "(36052, 30) (36052,)\n",
      "(49041, 30) (49041,)\n",
      "(24155, 30) (24155,)\n",
      "(36052, 30) (36052,)\n",
      "20090\n",
      "20090\n",
      "['care_hunger', 'charactereducation', 'civics_government', 'college_careerprep']\n",
      "['care_hunger', 'charactereducation', 'civics_government', 'college_careerprep']\n"
     ]
    }
   ],
   "source": [
    "# Sub Category\n",
    "\n",
    "# BoW\n",
    "X_train_subcat_ohe_bow, X_cv_subcat_ohe_bow, X_test_subcat_ohe_bow = _encoder_helper(vectorizer_bow, X_train['clean_subcategories'], X_cv['clean_subcategories'], X_test['clean_subcategories'])\n",
    "feature_name_list_bow.extend(vectorizer_bow.get_feature_names())\n",
    "# TF-IDF\n",
    "X_train_subcat_ohe_tfidf, X_cv_subcat_ohe_tfidf, X_test_subcat_ohe_tfidf = _encoder_helper(vectorizer_tfidf, X_train['clean_subcategories'], X_cv['clean_subcategories'], X_test['clean_subcategories'])\n",
    "feature_name_list_tfidf.extend(vectorizer_tfidf.get_feature_names())\n",
    "\n",
    "print(\"After vectorizations\")\n",
    "print(X_train_subcat_ohe_bow.shape, y_train.shape)\n",
    "print(X_cv_subcat_ohe_bow.shape, y_cv.shape)\n",
    "print(X_test_subcat_ohe_bow.shape, y_test.shape)\n",
    "\n",
    "print(X_train_subcat_ohe_tfidf.shape, y_train.shape)\n",
    "print(X_cv_subcat_ohe_tfidf.shape, y_cv.shape)\n",
    "print(X_test_subcat_ohe_tfidf.shape, y_test.shape)\n",
    "\n",
    "print(len(feature_name_list_bow))\n",
    "print(len(feature_name_list_tfidf))\n",
    "\n",
    "print(vectorizer_bow.get_feature_names()[1:5])\n",
    "print(vectorizer_tfidf.get_feature_names()[1:5])"
   ]
  },
  {
   "cell_type": "code",
   "execution_count": 15,
   "metadata": {},
   "outputs": [
    {
     "name": "stdout",
     "output_type": "stream",
     "text": [
      "After vectorizations\n",
      "(49041, 9) (49041,)\n",
      "(24155, 9) (24155,)\n",
      "(36052, 9) (36052,)\n",
      "(49041, 9) (49041,)\n",
      "(24155, 9) (24155,)\n",
      "(36052, 9) (36052,)\n",
      "20099\n",
      "20099\n",
      "['care_hunger', 'health_sports', 'history_civics', 'literacy_language']\n",
      "['care_hunger', 'health_sports', 'history_civics', 'literacy_language']\n"
     ]
    }
   ],
   "source": [
    "# Category\n",
    "\n",
    "# BoW\n",
    "X_train_cat_ohe_bow, X_cv_cat_ohe_bow, X_test_cat_ohe_bow = _encoder_helper(vectorizer_bow, X_train['clean_categories'], X_cv['clean_categories'], X_test['clean_categories'])\n",
    "feature_name_list_bow.extend(vectorizer_bow.get_feature_names())\n",
    "# TF-IDF\n",
    "X_train_cat_ohe_tfidf, X_cv_cat_ohe_tfidf, X_test_cat_ohe_tfidf = _encoder_helper(vectorizer_tfidf, X_train['clean_categories'], X_cv['clean_categories'], X_test['clean_categories'])\n",
    "feature_name_list_tfidf.extend(vectorizer_tfidf.get_feature_names())\n",
    "\n",
    "print(\"After vectorizations\")\n",
    "print(X_train_cat_ohe_bow.shape, y_train.shape)\n",
    "print(X_cv_cat_ohe_bow.shape, y_cv.shape)\n",
    "print(X_test_cat_ohe_bow.shape, y_test.shape)\n",
    "\n",
    "print(X_train_cat_ohe_tfidf.shape, y_train.shape)\n",
    "print(X_cv_cat_ohe_tfidf.shape, y_cv.shape)\n",
    "print(X_test_cat_ohe_tfidf.shape, y_test.shape)\n",
    "\n",
    "print(len(feature_name_list_bow))\n",
    "print(len(feature_name_list_tfidf))\n",
    "\n",
    "print(vectorizer_bow.get_feature_names()[1:5])\n",
    "print(vectorizer_tfidf.get_feature_names()[1:5])"
   ]
  },
  {
   "cell_type": "code",
   "execution_count": 16,
   "metadata": {},
   "outputs": [
    {
     "name": "stdout",
     "output_type": "stream",
     "text": [
      "After vectorizations\n",
      "(1, 49041) (49041,)\n",
      "(1, 24155) (24155,)\n",
      "(1, 36052) (36052,)\n",
      "20100\n",
      "20100\n",
      "After reshape\n",
      "(49041, 1) (49041,)\n",
      "(24155, 1) (24155,)\n",
      "(36052, 1) (36052,)\n"
     ]
    }
   ],
   "source": [
    "from sklearn.preprocessing import Normalizer\n",
    "# normalizer.fit(X_train['price'].values)\n",
    "# this will rise an error Expected 2D array, got 1D array instead: \n",
    "# array=[105.22 215.96  96.01 ... 368.98  80.53 709.67].\n",
    "# Reshape your data either using \n",
    "# array.reshape(-1, 1) if your data has a single feature \n",
    "# array.reshape(1, -1)  if it contains a single sample.\n",
    "\n",
    "# If you reshape to (-1, 1) and pass to normalizer, you will get all values either 1 or 0.\n",
    "# Normalizer will take row vector and will convert it to unit length. So, instead of (-1,1) reshape it to (1,-1).\n",
    "# After normalizing , inorder to hstack, you have to again reshape to (-1,1).\n",
    "# https://stackoverflow.com/questions/18691084/what-does-1-mean-in-numpy-reshape\n",
    "normalizer = Normalizer()\n",
    "normalizer.fit(X_train['price'].values.reshape(1,-1))\n",
    "\n",
    "X_train_price_norm = normalizer.transform(X_train['price'].values.reshape(1,-1))\n",
    "X_cv_price_norm = normalizer.transform(X_cv['price'].values.reshape(1,-1))\n",
    "X_test_price_norm = normalizer.transform(X_test['price'].values.reshape(1,-1))\n",
    "\n",
    "feature_name_list_bow.extend(['price'])\n",
    "feature_name_list_tfidf.extend(['price'])\n",
    "\n",
    "print(\"After vectorizations\")\n",
    "print(X_train_price_norm.shape, y_train.shape)\n",
    "print(X_cv_price_norm.shape, y_cv.shape)\n",
    "print(X_test_price_norm.shape, y_test.shape)\n",
    "\n",
    "print(len(feature_name_list_bow))\n",
    "print(len(feature_name_list_tfidf))\n",
    "\n",
    "# Reshape to (-1,1) for hstack\n",
    "X_train_price_norm = X_train_price_norm.reshape(-1,1)\n",
    "X_cv_price_norm = X_cv_price_norm.reshape(-1,1)\n",
    "X_test_price_norm = X_test_price_norm.reshape(-1,1)\n",
    "\n",
    "print(\"After reshape\")\n",
    "print(X_train_price_norm.shape, y_train.shape)\n",
    "print(X_cv_price_norm.shape, y_cv.shape)\n",
    "print(X_test_price_norm.shape, y_test.shape)\n"
   ]
  },
  {
   "cell_type": "code",
   "execution_count": 17,
   "metadata": {},
   "outputs": [
    {
     "name": "stdout",
     "output_type": "stream",
     "text": [
      "After vectorizations\n",
      "(1, 49041) (49041,)\n",
      "(1, 24155) (24155,)\n",
      "(1, 36052) (36052,)\n",
      "20101\n",
      "20101\n",
      "After reshape\n",
      "(49041, 1) (49041,)\n",
      "(24155, 1) (24155,)\n",
      "(36052, 1) (36052,)\n"
     ]
    }
   ],
   "source": [
    "from sklearn.preprocessing import Normalizer\n",
    "# normalizer.fit(X_train['price'].values)\n",
    "# this will rise an error Expected 2D array, got 1D array instead: \n",
    "# array=[105.22 215.96  96.01 ... 368.98  80.53 709.67].\n",
    "# Reshape your data either using \n",
    "# array.reshape(-1, 1) if your data has a single feature \n",
    "# array.reshape(1, -1)  if it contains a single sample.\n",
    "\n",
    "# If you reshape to (-1, 1) and pass to normalizer, you will get all values either 1 or 0.\n",
    "# Normalizer will take row vector and will convert it to unit length. So, instead of (-1,1) reshape it to (1,-1).\n",
    "# After normalizing , inorder to hstack, you have to again reshape to (-1,1).\n",
    "# https://stackoverflow.com/questions/18691084/what-does-1-mean-in-numpy-reshape\n",
    "normalizer.fit(X_train['teacher_number_of_previously_posted_projects'].values.reshape(1,-1))\n",
    "\n",
    "X_train_prev_proj_norm = normalizer.transform(X_train['teacher_number_of_previously_posted_projects'].values.reshape(1,-1))\n",
    "X_cv_prev_proj_norm = normalizer.transform(X_cv['teacher_number_of_previously_posted_projects'].values.reshape(1,-1))\n",
    "X_test_prev_proj_norm = normalizer.transform(X_test['teacher_number_of_previously_posted_projects'].values.reshape(1,-1))\n",
    "\n",
    "feature_name_list_bow.extend(['teacher_number_of_previously_posted_projects'])\n",
    "feature_name_list_tfidf.extend(['teacher_number_of_previously_posted_projects'])\n",
    "\n",
    "print(\"After vectorizations\")\n",
    "print(X_train_prev_proj_norm.shape, y_train.shape)\n",
    "print(X_cv_prev_proj_norm.shape, y_cv.shape)\n",
    "print(X_test_prev_proj_norm.shape, y_test.shape)\n",
    "\n",
    "print(len(feature_name_list_bow))\n",
    "print(len(feature_name_list_tfidf))\n",
    "\n",
    "# Reshape to (-1,1) for hstack\n",
    "X_train_prev_proj_norm = X_train_prev_proj_norm.reshape(-1,1)\n",
    "X_cv_prev_proj_norm = X_cv_prev_proj_norm.reshape(-1,1)\n",
    "X_test_prev_proj_norm = X_test_prev_proj_norm.reshape(-1,1)\n",
    "\n",
    "print(\"After reshape\")\n",
    "print(X_train_price_norm.shape, y_train.shape)\n",
    "print(X_cv_price_norm.shape, y_cv.shape)\n",
    "print(X_test_price_norm.shape, y_test.shape)"
   ]
  },
  {
   "cell_type": "code",
   "execution_count": 18,
   "metadata": {},
   "outputs": [
    {
     "name": "stdout",
     "output_type": "stream",
     "text": [
      "Final Data matrix\n",
      "(49041, 20101) (49041,)\n",
      "(24155, 20101) (24155,)\n",
      "(36052, 20101) (36052,)\n",
      "(49041, 20101) (49041,)\n",
      "(24155, 20101) (24155,)\n",
      "(36052, 20101) (36052,)\n"
     ]
    }
   ],
   "source": [
    "# Concatinating all the features\n",
    "# merge two sparse matrices: https://stackoverflow.com/a/19710648/4084039\n",
    "from scipy.sparse import hstack\n",
    "\n",
    "# Bag of Words\n",
    "X_tr_bow = hstack((X_train_essay_bow, X_train_title_bow, X_train_state_ohe_bow, X_train_teacher_ohe_bow, X_train_grade_ohe_bow, X_train_subcat_ohe_bow, X_train_cat_ohe_bow, X_train_price_norm, X_train_prev_proj_norm)).tocsr()\n",
    "X_cr_bow = hstack((X_cv_essay_bow, X_cv_title_bow, X_cv_state_ohe_bow, X_cv_teacher_ohe_bow, X_cv_grade_ohe_bow, X_cv_subcat_ohe_bow, X_cv_cat_ohe_bow, X_cv_price_norm, X_cv_prev_proj_norm)).tocsr()\n",
    "X_te_bow = hstack((X_test_essay_bow, X_test_title_bow, X_test_state_ohe_bow, X_test_teacher_ohe_bow, X_test_grade_ohe_bow, X_test_subcat_ohe_bow, X_test_cat_ohe_bow, X_test_price_norm, X_test_prev_proj_norm)).tocsr()\n",
    "\n",
    "# TF-IDF\n",
    "X_tr_tfidf = hstack((X_train_essay_tfidf, X_train_title_tfidf, X_train_state_ohe_tfidf, X_train_teacher_ohe_tfidf, X_train_grade_ohe_tfidf, X_train_subcat_ohe_tfidf, X_train_cat_ohe_tfidf, X_train_price_norm, X_train_prev_proj_norm)).tocsr()\n",
    "X_cr_tfidf = hstack((X_cv_essay_tfidf, X_cv_title_tfidf, X_cv_state_ohe_tfidf, X_cv_teacher_ohe_tfidf, X_cv_grade_ohe_tfidf, X_cv_subcat_ohe_tfidf, X_cv_cat_ohe_tfidf, X_cv_price_norm, X_cv_prev_proj_norm)).tocsr()\n",
    "X_te_tfidf = hstack((X_test_essay_tfidf, X_test_title_tfidf, X_test_state_ohe_tfidf, X_test_teacher_ohe_tfidf, X_test_grade_ohe_tfidf, X_test_subcat_ohe_tfidf, X_test_cat_ohe_tfidf, X_test_price_norm, X_test_prev_proj_norm)).tocsr()\n",
    "\n",
    "print(\"Final Data matrix\")\n",
    "print(X_tr_bow.shape, y_train.shape)\n",
    "print(X_cr_bow.shape, y_cv.shape)\n",
    "print(X_te_bow.shape, y_test.shape)\n",
    "\n",
    "print(X_tr_tfidf.shape, y_train.shape)\n",
    "print(X_cr_tfidf.shape, y_cv.shape)\n",
    "print(X_te_tfidf.shape, y_test.shape)"
   ]
  },
  {
   "cell_type": "markdown",
   "metadata": {
    "colab_type": "text",
    "id": "yYHPYadYb3dh"
   },
   "source": [
    "<h2>1.5 Applying NB on different kind of featurization as mentioned in the instructions</h2>\n",
    "\n",
    "<br>Apply NB on different kind of featurization as mentioned in the instructions\n",
    "<br> For Every model that you work on make sure you do the step 2 and step 3 of instrucations"
   ]
  },
  {
   "cell_type": "markdown",
   "metadata": {},
   "source": [
    "## Multinomial NB on these feature sets using Bag of Words Preprocessing"
   ]
  },
  {
   "cell_type": "code",
   "execution_count": 19,
   "metadata": {
    "colab": {},
    "colab_type": "code",
    "id": "DNwqilFxb3di"
   },
   "outputs": [],
   "source": [
    "from sklearn.model_selection import GridSearchCV\n",
    "from sklearn.model_selection import RandomizedSearchCV\n",
    "from sklearn.naive_bayes import MultinomialNB\n",
    "import matplotlib.pyplot as plt\n",
    "from sklearn.metrics import roc_auc_score\n",
    "import numpy as np\n",
    "import math\n",
    "\n",
    "%matplotlib inline\n",
    "\n",
    "# https://datascience.stackexchange.com/questions/30473/how-does-the-mutlinomial-bayess-alpha-parameter-affects-the-text-classificati\n",
    "def get_AUC_hyperparam_MultinomialNB(x_train, y_train):\n",
    "    classifier = MultinomialNB()\n",
    "    # https://stackoverflow.com/questions/40005795/how-does-sp-randint-work\n",
    "    parameters = {'alpha': [0.00001, 0.0001, 0.001, 0.01, 0.1, 1, 10, 100, 1000, 10000]}\n",
    "    clf = RandomizedSearchCV(classifier, parameters, cv=3, scoring='roc_auc', return_train_score=True)\n",
    "    clf.fit(x_train, y_train)\n",
    "\n",
    "    results = pd.DataFrame.from_dict(clf.cv_results_)\n",
    "    results.head()\n",
    "    results = results.sort_values(['param_alpha'])\n",
    "    \n",
    "    train_auc = results['mean_train_score']\n",
    "    train_auc_std = results['std_train_score']\n",
    "    cv_auc = results['mean_test_score']\n",
    "    cv_auc_std= results['std_test_score']\n",
    "    K = [math.log(result) for result in results['param_alpha']]\n",
    "\n",
    "    plt.plot(K, train_auc, label='Train AUC')\n",
    "    # this code is copied from here: https://stackoverflow.com/a/48803361/4084039\n",
    "    # plt.gca().fill_between(K, train_auc - train_auc_std,train_auc + train_auc_std,alpha=0.2,color='darkblue')\n",
    "\n",
    "    plt.plot(K, cv_auc, label='CV AUC')\n",
    "    # this code is copied from here: https://stackoverflow.com/a/48803361/4084039\n",
    "    # plt.gca().fill_between(K, cv_auc - cv_auc_std,cv_auc + cv_auc_std,alpha=0.2,color='darkorange')\n",
    "\n",
    "    plt.scatter(K, train_auc, label='Train AUC points')\n",
    "    plt.scatter(K, cv_auc, label='CV AUC points')\n",
    "\n",
    "\n",
    "    plt.legend()\n",
    "    plt.xlabel(\"log(Alpha)\")\n",
    "    plt.ylabel(\"AUC Score\")\n",
    "    plt.title(\"Hyper parameter - Alpha Vs AUC plot\")\n",
    "    plt.grid()\n",
    "    plt.show()\n",
    "    \n",
    "    # Based on 'best_params_' parameter of the classifier\n",
    "    # https://medium.com/@sebastiannorena/some-model-tuning-methods-bfef3e6544f0\n",
    "    print(f\"Best Hyperparameters: {clf.best_params_}\")\n",
    "    return clf.best_params_.get('alpha')"
   ]
  },
  {
   "cell_type": "code",
   "execution_count": 20,
   "metadata": {},
   "outputs": [],
   "source": [
    "def plot_AUC_ROC_Curve(train_fpr, train_tpr, test_fpr, test_tpr):\n",
    "    plt.plot(train_fpr, train_tpr, label=\"train AUC = \"+str(auc(train_fpr, train_tpr)))\n",
    "    plt.plot(test_fpr, test_tpr, label=\"test AUC = \"+str(auc(test_fpr, test_tpr)))\n",
    "    plt.legend()\n",
    "    plt.xlabel(\"FPR\")\n",
    "    plt.ylabel(\"TPR\")\n",
    "    plt.title(\"AUC-ROC Curve\")\n",
    "    plt.grid()\n",
    "    plt.show()"
   ]
  },
  {
   "cell_type": "code",
   "execution_count": 21,
   "metadata": {},
   "outputs": [],
   "source": [
    "# we are writing our own function for predict, with defined threshold\n",
    "# we will pick a threshold that will give the least fpr\n",
    "def find_best_threshold(threshould, fpr, tpr):\n",
    "    t = threshould[np.argmax(tpr*(1-fpr))]\n",
    "    # (tpr*(1-fpr)) will be maximum if your fpr is very low and tpr is very high\n",
    "    print(\"the maximum value of tpr*(1-fpr)\", max(tpr*(1-fpr)), \"for threshold\", np.round(t,3))\n",
    "    return t\n",
    "\n",
    "def predict_with_best_t(probability, threshold):\n",
    "    predictions = []\n",
    "    for i in probability:\n",
    "        if i >= threshold:\n",
    "            predictions.append(1)\n",
    "        else:\n",
    "            predictions.append(0)\n",
    "    return predictions"
   ]
  },
  {
   "cell_type": "code",
   "execution_count": 22,
   "metadata": {},
   "outputs": [
    {
     "data": {
      "image/png": "[encoded data removed]",
      "text/plain": [
       "<Figure size 432x288 with 1 Axes>"
      ]
     },
     "metadata": {
      "needs_background": "light"
     },
     "output_type": "display_data"
    },
    {
     "name": "stdout",
     "output_type": "stream",
     "text": [
      "Best Hyperparameters: {'alpha': 1}\n",
      "Best Alpha value for BoW: 1\n"
     ]
    }
   ],
   "source": [
    "# Plot AUC\n",
    "best_alpha_bow = get_AUC_hyperparam_MultinomialNB(X_tr_bow, y_train)\n",
    "print(f\"Best Alpha value for BoW: {best_alpha_bow}\")"
   ]
  },
  {
   "cell_type": "code",
   "execution_count": 23,
   "metadata": {},
   "outputs": [
    {
     "name": "stdout",
     "output_type": "stream",
     "text": [
      "With Bag of Words preprocessing\n"
     ]
    },
    {
     "data": {
      "image/png": "[encoded data removed]",
      "text/plain": [
       "<Figure size 432x288 with 1 Axes>"
      ]
     },
     "metadata": {
      "needs_background": "light"
     },
     "output_type": "display_data"
    }
   ],
   "source": [
    "from sklearn.metrics import roc_curve, auc\n",
    "\n",
    "# https://scikit-learn.org/stable/modules/generated/sklearn.naive_bayes.MultinomialNB.html\n",
    "classifier_bow = MultinomialNB(alpha=best_alpha_bow, class_prior=[0.5, 0.5])\n",
    "classifier_bow.fit(X_tr_bow, y_train)\n",
    "# Using [:,1] in the code will give you the probabilities of getting the output as 1\n",
    "# If you replace 1 with 0 in the above code, you will only get the probabilities of getting the output as 0.\n",
    "y_train_pred = classifier_bow.predict_proba(X_tr_bow)[:,1]\n",
    "y_test_pred = classifier_bow.predict_proba(X_te_bow)[:,1]\n",
    "\n",
    "train_fpr, train_tpr, tr_thresholds = roc_curve(y_train, y_train_pred)\n",
    "test_fpr, test_tpr, te_thresholds = roc_curve(y_test, y_test_pred)\n",
    "\n",
    "print(\"With Bag of Words preprocessing\")\n",
    "plot_AUC_ROC_Curve(train_fpr, train_tpr, test_fpr, test_tpr)"
   ]
  },
  {
   "cell_type": "code",
   "execution_count": 24,
   "metadata": {},
   "outputs": [
    {
     "name": "stdout",
     "output_type": "stream",
     "text": [
      "the maximum value of tpr*(1-fpr) 0.5023759372745285 for threshold 0.529\n",
      "Train confusion matrix for Bag of Words\n",
      "[[ 5274  2152]\n",
      " [12178 29437]]\n",
      "Test confusion matrix for Bag of Words\n",
      "[[ 3192  2267]\n",
      " [ 9482 21111]]\n"
     ]
    }
   ],
   "source": [
    "from sklearn.metrics import confusion_matrix\n",
    "\n",
    "best_t = find_best_threshold(tr_thresholds, train_fpr, train_tpr)\n",
    "print(\"Train confusion matrix for Bag of Words\")\n",
    "print(confusion_matrix(y_train, predict_with_best_t(y_train_pred, best_t)))\n",
    "print(\"Test confusion matrix for Bag of Words\")\n",
    "print(confusion_matrix(y_test, predict_with_best_t(y_test_pred, best_t)))"
   ]
  },
  {
   "cell_type": "markdown",
   "metadata": {},
   "source": [
    "## Multinomial NB on these feature sets using TF-IDF Preprocessing"
   ]
  },
  {
   "cell_type": "code",
   "execution_count": 25,
   "metadata": {},
   "outputs": [
    {
     "data": {
      "image/png": "[encoded data removed]",
      "text/plain": [
       "<Figure size 432x288 with 1 Axes>"
      ]
     },
     "metadata": {
      "needs_background": "light"
     },
     "output_type": "display_data"
    },
    {
     "name": "stdout",
     "output_type": "stream",
     "text": [
      "Best Hyperparameters: {'alpha': 1}\n",
      "Best Alpha value for BoW: 1\n"
     ]
    }
   ],
   "source": [
    "# Plot AUC\n",
    "best_alpha_tfidf = get_AUC_hyperparam_MultinomialNB(X_tr_tfidf, y_train)\n",
    "print(f\"Best Alpha value for BoW: {best_alpha_tfidf}\")"
   ]
  },
  {
   "cell_type": "code",
   "execution_count": 26,
   "metadata": {},
   "outputs": [
    {
     "name": "stdout",
     "output_type": "stream",
     "text": [
      "With TF-IDF preprocessing\n"
     ]
    },
    {
     "data": {
      "image/png": "[encoded data removed]",
      "text/plain": [
       "<Figure size 432x288 with 1 Axes>"
      ]
     },
     "metadata": {
      "needs_background": "light"
     },
     "output_type": "display_data"
    }
   ],
   "source": [
    "classifier_tfidf = MultinomialNB(alpha=best_alpha_tfidf, class_prior=[0.5, 0.5])\n",
    "classifier_tfidf.fit(X_tr_tfidf, y_train)\n",
    "# Using [:,1] in the code will give you the probabilities of getting the output as 1\n",
    "# If you replace 1 with 0 in the above code, you will only get the probabilities of getting the output as 0.\n",
    "y_train_pred = classifier_tfidf.predict_proba(X_tr_tfidf)[:,1]\n",
    "y_test_pred = classifier_tfidf.predict_proba(X_te_tfidf)[:,1]\n",
    "\n",
    "train_fpr, train_tpr, tr_thresholds = roc_curve(y_train, y_train_pred)\n",
    "test_fpr, test_tpr, te_thresholds = roc_curve(y_test, y_test_pred)\n",
    "\n",
    "print(\"With TF-IDF preprocessing\")\n",
    "plot_AUC_ROC_Curve(train_fpr, train_tpr, test_fpr, test_tpr)"
   ]
  },
  {
   "cell_type": "code",
   "execution_count": 27,
   "metadata": {},
   "outputs": [
    {
     "name": "stdout",
     "output_type": "stream",
     "text": [
      "the maximum value of tpr*(1-fpr) 0.5079813841234232 for threshold 0.597\n",
      "Train confusion matrix for TF-IDF\n",
      "[[ 5281  2145]\n",
      " [11889 29726]]\n",
      "Test confusion matrix for TF-IDF\n",
      "[[ 2671  2788]\n",
      " [ 9155 21438]]\n"
     ]
    }
   ],
   "source": [
    "best_t = find_best_threshold(tr_thresholds, train_fpr, train_tpr)\n",
    "print(\"Train confusion matrix for TF-IDF\")\n",
    "print(confusion_matrix(y_train, predict_with_best_t(y_train_pred, best_t)))\n",
    "print(\"Test confusion matrix for TF-IDF\")\n",
    "print(confusion_matrix(y_test, predict_with_best_t(y_test_pred, best_t)))"
   ]
  },
  {
   "cell_type": "markdown",
   "metadata": {},
   "source": [
    "## Top 20 Features - TFIDF"
   ]
  },
  {
   "cell_type": "code",
   "execution_count": 28,
   "metadata": {},
   "outputs": [
    {
     "name": "stdout",
     "output_type": "stream",
     "text": [
      "['mrs' 'grades_prek_2' 'ms' 'math_science' 'grades_3_5'\n",
      " 'literacy_language' 'mathematics' 'literacy' 'grades_6_8'\n",
      " 'literature_writing' 'ca' 'health_sports' 'specialneeds'\n",
      " 'appliedlearning' 'specialneeds' 'students' 'grades_9_12' 'mr'\n",
      " 'appliedsciences' 'music_arts']\n"
     ]
    }
   ],
   "source": [
    "max_ind_neg = np.argsort((classifier_tfidf.feature_log_prob_)[0])[::-1][0:20]\n",
    "print(np.take(feature_name_list_tfidf, max_ind_neg))"
   ]
  },
  {
   "cell_type": "markdown",
   "metadata": {},
   "source": [
    "## Top 20 Features - Bag of Words"
   ]
  },
  {
   "cell_type": "code",
   "execution_count": 29,
   "metadata": {},
   "outputs": [
    {
     "name": "stdout",
     "output_type": "stream",
     "text": [
      "['students' 'school' 'learning' 'my' 'classroom' 'not' 'learn' 'they'\n",
      " 'help' 'the' 'my students' 'nannan' 'many' 'we' 'need' 'work' 'come'\n",
      " 'skills' 'love' 'able']\n"
     ]
    }
   ],
   "source": [
    "max_ind_neg = np.argsort((classifier_bow.feature_log_prob_)[0])[::-1][0:20]\n",
    "print(np.take(feature_name_list_tfidf, max_ind_neg))"
   ]
  },
  {
   "cell_type": "markdown",
   "metadata": {
    "colab_type": "text",
    "id": "lS9hIHdib3dp"
   },
   "source": [
    "<h1>3. Summary</h1>\n",
    "\n",
    "<br> as mentioned in the step 5 of instructions"
   ]
  },
  {
   "cell_type": "code",
   "execution_count": 30,
   "metadata": {},
   "outputs": [
    {
     "data": {
      "text/html": [
       "<table><tr><td>Vectorizer</td><td>Model</td><td>Alpha</td><td>AUC</td></tr><tr><td>BoW</td><td>Multinomial NB</td><td>1</td><td>0.68</td></tr><tr><td>TF-IDF</td><td>Multinomial NB</td><td>1</td><td>0.63</td></tr></table>"
      ],
      "text/plain": [
       "<IPython.core.display.HTML object>"
      ]
     },
     "metadata": {},
     "output_type": "display_data"
    }
   ],
   "source": [
    "from IPython.display import HTML, display\n",
    "\n",
    "data = [\n",
    "        ['Vectorizer', 'Model', 'Alpha', 'AUC'],\n",
    "        ['BoW', 'Multinomial NB', 1, 0.68],\n",
    "        ['TF-IDF', 'Multinomial NB', 1, 0.63],\n",
    "       ]\n",
    "\n",
    "display(\n",
    "    HTML('<table><tr>{}</tr></table>'.format(\n",
    "               '</tr><tr>'.join(\n",
    "                   '<td>{}</td>'.format('</td><td>'.join(str(_) for _ in row)) for row in data)\n",
    "            )\n",
    "    )\n",
    ")"
   ]
  }
 ],
 "metadata": {
  "colab": {
   "collapsed_sections": [],
   "name": "6_Assignment_NB_Instructions.ipynb",
   "provenance": [],
   "version": "0.3.2"
  },
  "kernelspec": {
   "display_name": "Python 3",
   "language": "python",
   "name": "python3"
  },
  "language_info": {
   "codemirror_mode": {
    "name": "ipython",
    "version": 3
   },
   "file_extension": ".py",
   "mimetype": "text/x-python",
   "name": "python",
   "nbconvert_exporter": "python",
   "pygments_lexer": "ipython3",
   "version": "3.7.7"
  }
 },
 "nbformat": 4,
 "nbformat_minor": 1
}
